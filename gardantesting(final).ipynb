{
  "cells": [
    {
      "cell_type": "code",
      "execution_count": null,
      "id": "2ffac846-0c77-4a2b-8f63-643008fd220b",
      "metadata": {
        "colab": {
          "base_uri": "https://localhost:8080/"
        },
        "id": "2ffac846-0c77-4a2b-8f63-643008fd220b",
        "outputId": "fbca7f4f-ef41-4d80-d35c-762637556ee0"
      },
      "outputs": [
        {
          "output_type": "stream",
          "name": "stdout",
          "text": [
            "Collecting mediapipe\n",
            "  Downloading mediapipe-0.10.14-cp310-cp310-manylinux_2_17_x86_64.manylinux2014_x86_64.whl.metadata (9.7 kB)\n",
            "Requirement already satisfied: opencv-python in /usr/local/lib/python3.10/dist-packages (4.8.0.76)\n",
            "Requirement already satisfied: absl-py in /usr/local/lib/python3.10/dist-packages (from mediapipe) (1.4.0)\n",
            "Requirement already satisfied: attrs>=19.1.0 in /usr/local/lib/python3.10/dist-packages (from mediapipe) (23.2.0)\n",
            "Requirement already satisfied: flatbuffers>=2.0 in /usr/local/lib/python3.10/dist-packages (from mediapipe) (24.3.25)\n",
            "Requirement already satisfied: jax in /usr/local/lib/python3.10/dist-packages (from mediapipe) (0.4.26)\n",
            "Requirement already satisfied: jaxlib in /usr/local/lib/python3.10/dist-packages (from mediapipe) (0.4.26+cuda12.cudnn89)\n",
            "Requirement already satisfied: matplotlib in /usr/local/lib/python3.10/dist-packages (from mediapipe) (3.7.1)\n",
            "Requirement already satisfied: numpy in /usr/local/lib/python3.10/dist-packages (from mediapipe) (1.25.2)\n",
            "Requirement already satisfied: opencv-contrib-python in /usr/local/lib/python3.10/dist-packages (from mediapipe) (4.8.0.76)\n",
            "Collecting protobuf<5,>=4.25.3 (from mediapipe)\n",
            "  Downloading protobuf-4.25.4-cp37-abi3-manylinux2014_x86_64.whl.metadata (541 bytes)\n",
            "Collecting sounddevice>=0.4.4 (from mediapipe)\n",
            "  Downloading sounddevice-0.4.7-py3-none-any.whl.metadata (1.4 kB)\n",
            "Requirement already satisfied: CFFI>=1.0 in /usr/local/lib/python3.10/dist-packages (from sounddevice>=0.4.4->mediapipe) (1.16.0)\n",
            "Requirement already satisfied: ml-dtypes>=0.2.0 in /usr/local/lib/python3.10/dist-packages (from jax->mediapipe) (0.2.0)\n",
            "Requirement already satisfied: opt-einsum in /usr/local/lib/python3.10/dist-packages (from jax->mediapipe) (3.3.0)\n",
            "Requirement already satisfied: scipy>=1.9 in /usr/local/lib/python3.10/dist-packages (from jax->mediapipe) (1.11.4)\n",
            "Requirement already satisfied: contourpy>=1.0.1 in /usr/local/lib/python3.10/dist-packages (from matplotlib->mediapipe) (1.2.1)\n",
            "Requirement already satisfied: cycler>=0.10 in /usr/local/lib/python3.10/dist-packages (from matplotlib->mediapipe) (0.12.1)\n",
            "Requirement already satisfied: fonttools>=4.22.0 in /usr/local/lib/python3.10/dist-packages (from matplotlib->mediapipe) (4.53.1)\n",
            "Requirement already satisfied: kiwisolver>=1.0.1 in /usr/local/lib/python3.10/dist-packages (from matplotlib->mediapipe) (1.4.5)\n",
            "Requirement already satisfied: packaging>=20.0 in /usr/local/lib/python3.10/dist-packages (from matplotlib->mediapipe) (24.1)\n",
            "Requirement already satisfied: pillow>=6.2.0 in /usr/local/lib/python3.10/dist-packages (from matplotlib->mediapipe) (9.4.0)\n",
            "Requirement already satisfied: pyparsing>=2.3.1 in /usr/local/lib/python3.10/dist-packages (from matplotlib->mediapipe) (3.1.2)\n",
            "Requirement already satisfied: python-dateutil>=2.7 in /usr/local/lib/python3.10/dist-packages (from matplotlib->mediapipe) (2.8.2)\n",
            "Requirement already satisfied: pycparser in /usr/local/lib/python3.10/dist-packages (from CFFI>=1.0->sounddevice>=0.4.4->mediapipe) (2.22)\n",
            "Requirement already satisfied: six>=1.5 in /usr/local/lib/python3.10/dist-packages (from python-dateutil>=2.7->matplotlib->mediapipe) (1.16.0)\n",
            "Downloading mediapipe-0.10.14-cp310-cp310-manylinux_2_17_x86_64.manylinux2014_x86_64.whl (35.7 MB)\n",
            "\u001b[2K   \u001b[90m━━━━━━━━━━━━━━━━━━━━━━━━━━━━━━━━━━━━━━━━\u001b[0m \u001b[32m35.7/35.7 MB\u001b[0m \u001b[31m26.1 MB/s\u001b[0m eta \u001b[36m0:00:00\u001b[0m\n",
            "\u001b[?25hDownloading protobuf-4.25.4-cp37-abi3-manylinux2014_x86_64.whl (294 kB)\n",
            "\u001b[2K   \u001b[90m━━━━━━━━━━━━━━━━━━━━━━━━━━━━━━━━━━━━━━━━\u001b[0m \u001b[32m294.6/294.6 kB\u001b[0m \u001b[31m12.3 MB/s\u001b[0m eta \u001b[36m0:00:00\u001b[0m\n",
            "\u001b[?25hDownloading sounddevice-0.4.7-py3-none-any.whl (32 kB)\n",
            "Installing collected packages: protobuf, sounddevice, mediapipe\n",
            "  Attempting uninstall: protobuf\n",
            "    Found existing installation: protobuf 3.20.3\n",
            "    Uninstalling protobuf-3.20.3:\n",
            "      Successfully uninstalled protobuf-3.20.3\n",
            "\u001b[31mERROR: pip's dependency resolver does not currently take into account all the packages that are installed. This behaviour is the source of the following dependency conflicts.\n",
            "tensorflow-metadata 1.15.0 requires protobuf<4.21,>=3.20.3; python_version < \"3.11\", but you have protobuf 4.25.4 which is incompatible.\u001b[0m\u001b[31m\n",
            "\u001b[0mSuccessfully installed mediapipe-0.10.14 protobuf-4.25.4 sounddevice-0.4.7\n"
          ]
        }
      ],
      "source": [
        "!pip install mediapipe opencv-python"
      ]
    },
    {
      "cell_type": "code",
      "execution_count": null,
      "id": "417a4e75-e8f7-48c4-b050-f4473e41474f",
      "metadata": {
        "id": "417a4e75-e8f7-48c4-b050-f4473e41474f"
      },
      "outputs": [],
      "source": [
        "import cv2\n",
        "import mediapipe as mp\n",
        "import numpy as np\n",
        "mp_drawing = mp.solutions.drawing_utils\n",
        "mp_pose = mp.solutions.pose"
      ]
    },
    {
      "cell_type": "code",
      "execution_count": null,
      "id": "55af3ad5-19a2-4e20-874b-2c3bbdceae86",
      "metadata": {
        "id": "55af3ad5-19a2-4e20-874b-2c3bbdceae86"
      },
      "outputs": [],
      "source": [
        "# VIDEO FEED\n",
        "cap = cv2.VideoCapture(0)\n",
        "while cap.isOpened():\n",
        "    ret, frame = cap.read()\n",
        "    cv2.imshow('Mediapipe Feed', frame)\n",
        "\n",
        "    if cv2.waitKey(10) & 0xFF == ord('q'):\n",
        "        break\n",
        "\n",
        "cap.release()\n",
        "cv2.destroyAllWindows()"
      ]
    },
    {
      "cell_type": "code",
      "execution_count": null,
      "id": "b393a4c8-4af3-4aa5-bfed-b3063ad1ecd0",
      "metadata": {
        "id": "b393a4c8-4af3-4aa5-bfed-b3063ad1ecd0"
      },
      "outputs": [],
      "source": [
        "cap = cv2.VideoCapture(0)\n",
        "## Setup mediapipe instance\n",
        "with mp_pose.Pose(min_detection_confidence=0.5, min_tracking_confidence=0.5) as pose:\n",
        "    while cap.isOpened():\n",
        "        ret, frame = cap.read()\n",
        "\n",
        "        # Recolor image to RGB\n",
        "        image = cv2.cvtColor(frame, cv2.COLOR_BGR2RGB)\n",
        "        image.flags.writeable = False\n",
        "\n",
        "        # Make detection\n",
        "        results = pose.process(image)\n",
        "\n",
        "        # Recolor back to BGR\n",
        "        image.flags.writeable = True\n",
        "        image = cv2.cvtColor(image, cv2.COLOR_RGB2BGR)\n",
        "\n",
        "        # Render detections\n",
        "        mp_drawing.draw_landmarks(image, results.pose_landmarks, mp_pose.POSE_CONNECTIONS,\n",
        "                                mp_drawing.DrawingSpec(color=(245,117,66), thickness=2, circle_radius=2),\n",
        "                                mp_drawing.DrawingSpec(color=(245,66,230), thickness=2, circle_radius=2)\n",
        "                                 )\n",
        "\n",
        "        cv2.imshow('Mediapipe Feed', image)\n",
        "\n",
        "        if cv2.waitKey(10) & 0xFF == ord('q'):\n",
        "            break\n",
        "\n",
        "    cap.release()\n",
        "    cv2.destroyAllWindows()"
      ]
    },
    {
      "cell_type": "code",
      "execution_count": null,
      "id": "f9e66d29-9ef0-4225-b19b-21bb3af0d771",
      "metadata": {
        "id": "f9e66d29-9ef0-4225-b19b-21bb3af0d771",
        "outputId": "87ac1c5e-0f97-4d63-9c77-5b8659432aa9",
        "colab": {
          "base_uri": "https://localhost:8080/",
          "height": 211
        }
      },
      "outputs": [
        {
          "output_type": "error",
          "ename": "NameError",
          "evalue": "name 'landmarks' is not defined",
          "traceback": [
            "\u001b[0;31m---------------------------------------------------------------------------\u001b[0m",
            "\u001b[0;31mNameError\u001b[0m                                 Traceback (most recent call last)",
            "\u001b[0;32m<ipython-input-5-47fa7762bff9>\u001b[0m in \u001b[0;36m<cell line: 39>\u001b[0;34m()\u001b[0m\n\u001b[1;32m     37\u001b[0m     \u001b[0mcap\u001b[0m\u001b[0;34m.\u001b[0m\u001b[0mrelease\u001b[0m\u001b[0;34m(\u001b[0m\u001b[0;34m)\u001b[0m\u001b[0;34m\u001b[0m\u001b[0;34m\u001b[0m\u001b[0m\n\u001b[1;32m     38\u001b[0m     \u001b[0mcv2\u001b[0m\u001b[0;34m.\u001b[0m\u001b[0mdestroyAllWindows\u001b[0m\u001b[0;34m(\u001b[0m\u001b[0;34m)\u001b[0m\u001b[0;34m\u001b[0m\u001b[0;34m\u001b[0m\u001b[0m\n\u001b[0;32m---> 39\u001b[0;31m \u001b[0mlen\u001b[0m\u001b[0;34m(\u001b[0m\u001b[0mlandmarks\u001b[0m\u001b[0;34m)\u001b[0m\u001b[0;34m\u001b[0m\u001b[0;34m\u001b[0m\u001b[0m\n\u001b[0m\u001b[1;32m     40\u001b[0m \u001b[0;32mfor\u001b[0m \u001b[0mlndmrk\u001b[0m \u001b[0;32min\u001b[0m \u001b[0mmp_pose\u001b[0m\u001b[0;34m.\u001b[0m\u001b[0mPoseLandmark\u001b[0m\u001b[0;34m:\u001b[0m\u001b[0;34m\u001b[0m\u001b[0;34m\u001b[0m\u001b[0m\n\u001b[1;32m     41\u001b[0m     \u001b[0mprint\u001b[0m\u001b[0;34m(\u001b[0m\u001b[0mlndmrk\u001b[0m\u001b[0;34m)\u001b[0m\u001b[0;34m\u001b[0m\u001b[0;34m\u001b[0m\u001b[0m\n",
            "\u001b[0;31mNameError\u001b[0m: name 'landmarks' is not defined"
          ]
        }
      ],
      "source": [
        "cap = cv2.VideoCapture(0)\n",
        "## Setup mediapipe instance\n",
        "with mp_pose.Pose(min_detection_confidence=0.5, min_tracking_confidence=0.5) as pose:\n",
        "    while cap.isOpened():\n",
        "        ret, frame = cap.read()\n",
        "\n",
        "        # Recolor image to RGB\n",
        "        image = cv2.cvtColor(frame, cv2.COLOR_BGR2RGB)\n",
        "        image.flags.writeable = False\n",
        "\n",
        "        # Make detection\n",
        "        results = pose.process(image)\n",
        "\n",
        "        # Recolor back to BGR\n",
        "        image.flags.writeable = True\n",
        "        image = cv2.cvtColor(image, cv2.COLOR_RGB2BGR)\n",
        "\n",
        "        # Extract landmarks\n",
        "        try:\n",
        "            landmarks = results.pose_landmarks.landmark\n",
        "            print(landmarks)\n",
        "        except:\n",
        "            pass\n",
        "\n",
        "\n",
        "        # Render detections\n",
        "        mp_drawing.draw_landmarks(image, results.pose_landmarks, mp_pose.POSE_CONNECTIONS,\n",
        "                                mp_drawing.DrawingSpec(color=(245,117,66), thickness=2, circle_radius=2),\n",
        "                                mp_drawing.DrawingSpec(color=(245,66,230), thickness=2, circle_radius=2)\n",
        "                                 )\n",
        "\n",
        "        cv2.imshow('Mediapipe Feed', image)\n",
        "\n",
        "        if cv2.waitKey(10) & 0xFF == ord('q'):\n",
        "            break\n",
        "\n",
        "    cap.release()\n",
        "    cv2.destroyAllWindows()\n",
        "len(landmarks)\n",
        "for lndmrk in mp_pose.PoseLandmark:\n",
        "    print(lndmrk)\n",
        "    left_ear_visibility = landmarks[mp_pose.PoseLandmark.LEFT_EAR.value].visibility\n",
        "right_ear_visibility = landmarks[mp_pose.PoseLandmark.RIGHT_EAR.value].visibility\n",
        "nose_visibility = landmarks[mp_pose.PoseLandmark.NOSE.value].visibility\n",
        "\n",
        "left_ear_coordinates = landmarks[mp_pose.PoseLandmark.LEFT_EAR.value].x, landmarks[mp_pose.PoseLandmark.LEFT_EAR.value].y\n",
        "right_ear_coordinates = landmarks[mp_pose.PoseLandmark.RIGHT_EAR.value].x, landmarks[mp_pose.PoseLandmark.RIGHT_EAR.value].y\n",
        "nose_coordinates = landmarks[mp_pose.PoseLandmark.NOSE.value].x, landmarks[mp_pose.PoseLandmark.NOSE.value].y\n"
      ]
    },
    {
      "cell_type": "code",
      "execution_count": null,
      "id": "6edd0f90-149c-4881-8757-9890d8a50255",
      "metadata": {
        "id": "6edd0f90-149c-4881-8757-9890d8a50255"
      },
      "outputs": [],
      "source": [
        "\n",
        "def calculate_angle(a,b,c):\n",
        "    a = np.array(a) # First\n",
        "    b = np.array(b) # Mid\n",
        "    c = np.array(c) # End\n",
        "\n",
        "    radians = np.arctan2(c[1]-b[1], c[0]-b[0]) - np.arctan2(a[1]-b[1], a[0]-b[0])\n",
        "    angle = np.abs(radians*180.0/np.pi)\n",
        "\n",
        "    if angle >180.0:\n",
        "        angle = 360-angle\n",
        "\n",
        "    return angle\n"
      ]
    },
    {
      "cell_type": "code",
      "execution_count": null,
      "id": "bc00305e-2807-4e08-a8ab-027a260f79b5",
      "metadata": {
        "id": "bc00305e-2807-4e08-a8ab-027a260f79b5"
      },
      "outputs": [],
      "source": [
        "import numpy as np\n",
        "\n",
        "# Get the coordinates of the left and right ear, and nose landmarks\n",
        "left_ear = [landmarks[mp_pose.PoseLandmark.LEFT_EAR.value].x, landmarks[mp_pose.PoseLandmark.LEFT_EAR.value].y]\n",
        "right_ear = [landmarks[mp_pose.PoseLandmark.RIGHT_EAR.value].x, landmarks[mp_pose.PoseLandmark.RIGHT_EAR.value].y]\n",
        "nose = [landmarks[mp_pose.PoseLandmark.NOSE.value].x, landmarks[mp_pose.PoseLandmark.NOSE.value].y]\n",
        "\n",
        "# Calculate the angle of neck bending using the provided function\n",
        "angle = calculate_angle(left_ear, nose, right_ear)\n",
        "\n",
        "# Print or use the angle for further processing\n",
        "print(\"Angle of neck bending:\", angle)"
      ]
    },
    {
      "cell_type": "code",
      "execution_count": null,
      "id": "3d59075b-cdbc-4c89-a3d7-49f4dd53f4fc",
      "metadata": {
        "id": "3d59075b-cdbc-4c89-a3d7-49f4dd53f4fc"
      },
      "outputs": [],
      "source": [
        "# Calculate the angle of neck bending using the provided function\n",
        "angle = calculate_angle(left_ear, nose, right_ear)\n",
        "\n",
        "# Convert coordinates to match image dimensions\n",
        "left_ear_pixel = tuple(np.multiply(left_ear, [640, 480]).astype(int))\n",
        "right_ear_pixel = tuple(np.multiply(right_ear, [640, 480]).astype(int))\n",
        "nose_pixel = tuple(np.multiply(nose, [640, 480]).astype(int))\n",
        "\n",
        "# Print or use the angle for further processing\n",
        "print(\"Angle of neck bending:\", angle)\n",
        "print(\"Left ear pixel coordinates:\", left_ear_pixel)\n",
        "print(\"Right ear pixel coordinates:\", right_ear_pixel)\n",
        "print(\"Nose pixel coordinates:\", nose_pixel)"
      ]
    },
    {
      "cell_type": "code",
      "execution_count": null,
      "id": "476d8be1-9e15-4e61-aaa7-8dbd49a54d73",
      "metadata": {
        "id": "476d8be1-9e15-4e61-aaa7-8dbd49a54d73"
      },
      "outputs": [],
      "source": [
        "cap = cv2.VideoCapture(0)\n",
        "## Setup mediapipe instance\n",
        "with mp_pose.Pose(min_detection_confidence=0.5, min_tracking_confidence=0.5) as pose:\n",
        "    while cap.isOpened():\n",
        "        ret, frame = cap.read()\n",
        "\n",
        "        # Recolor image to RGB\n",
        "        image = cv2.cvtColor(frame, cv2.COLOR_BGR2RGB)\n",
        "        image.flags.writeable = False\n",
        "\n",
        "        # Make detection\n",
        "        results = pose.process(image)\n",
        "\n",
        "        # Recolor back to BGR\n",
        "        image.flags.writeable = True\n",
        "        image = cv2.cvtColor(image, cv2.COLOR_RGB2BGR)\n",
        "\n",
        "        # Extract landmarks\n",
        "        try:\n",
        "            landmarks = results.pose_landmarks.landmark\n",
        "\n",
        "            # Get coordinates of left and right ear and nose\n",
        "            left_ear = [landmarks[mp_pose.PoseLandmark.LEFT_EAR.value].x, landmarks[mp_pose.PoseLandmark.LEFT_EAR.value].y]\n",
        "            right_ear = [landmarks[mp_pose.PoseLandmark.RIGHT_EAR.value].x, landmarks[mp_pose.PoseLandmark.RIGHT_EAR.value].y]\n",
        "            nose = [landmarks[mp_pose.PoseLandmark.NOSE.value].x, landmarks[mp_pose.PoseLandmark.NOSE.value].y]\n",
        "\n",
        "            # Calculate angle of neck bending\n",
        "            angle = calculate_angle(left_ear, nose, right_ear)\n",
        "\n",
        "            # Visualize angle\n",
        "            cv2.putText(image, f\"Angle: {angle:.2f} degrees\", (30, 30), cv2.FONT_HERSHEY_SIMPLEX, 0.7, (255, 255, 255), 2)\n",
        "\n",
        "        except:\n",
        "            pass\n",
        "\n",
        "\n",
        "        # Render detections\n",
        "        mp_drawing.draw_landmarks(image, results.pose_landmarks, mp_pose.POSE_CONNECTIONS,\n",
        "                                mp_drawing.DrawingSpec(color=(245,117,66), thickness=2, circle_radius=2),\n",
        "                                mp_drawing.DrawingSpec(color=(245,66,230), thickness=2, circle_radius=2)\n",
        "                                 )\n",
        "\n",
        "        cv2.imshow('Mediapipe Feed', image)\n",
        "\n",
        "        if cv2.waitKey(10) & 0xFF == ord('q'):\n",
        "            break\n",
        "\n",
        "    cap.release()\n",
        "    cv2.destroyAllWindows()"
      ]
    },
    {
      "cell_type": "code",
      "execution_count": null,
      "id": "2f969c31-b237-4588-af54-fe6e50b25aff",
      "metadata": {
        "id": "2f969c31-b237-4588-af54-fe6e50b25aff"
      },
      "outputs": [],
      "source": [
        "cap = cv2.VideoCapture(0)\n",
        "\n",
        "\n",
        "# Curl counter variables\n",
        "counter = 0\n",
        "stage = None\n",
        "\n",
        "# Setup mediapipe instance\n",
        "with mp_pose.Pose(min_detection_confidence=0.5, min_tracking_confidence=0.5) as pose:\n",
        "    while cap.isOpened():\n",
        "        ret, frame = cap.read()\n",
        "        # Recolor image to RGB\n",
        "        image = cv2.cvtColor(frame, cv2.COLOR_BGR2RGB)\n",
        "        image.flags.writeable = False\n",
        "\n",
        "        # Make detection\n",
        "        results = pose.process(image)\n",
        "\n",
        "        # Recolor back to BGR\n",
        "        image.flags.writeable = True\n",
        "        image = cv2.cvtColor(image, cv2.COLOR_RGB2BGR)\n",
        "\n",
        "        # Extract landmarks\n",
        "        try:\n",
        "            landmarks = results.pose_landmarks.landmark\n",
        "\n",
        "            # Get coordinates of left and right ear and nose\n",
        "            left_ear = [landmarks[mp_pose.PoseLandmark.LEFT_EAR.value].x, landmarks[mp_pose.PoseLandmark.LEFT_EAR.value].y]\n",
        "            right_ear = [landmarks[mp_pose.PoseLandmark.RIGHT_EAR.value].x, landmarks[mp_pose.PoseLandmark.RIGHT_EAR.value].y]\n",
        "            nose = [landmarks[mp_pose.PoseLandmark.NOSE.value].x, landmarks[mp_pose.PoseLandmark.NOSE.value].y]\n",
        "\n",
        "            # Calculate angle of neck bending\n",
        "            angle = calculate_angle(left_ear, nose, right_ear)\n",
        "\n",
        "            # Visualize angle\n",
        "            cv2.putText(image, f\"Angle: {angle:.2f} degrees\",\n",
        "                        (30, 30), cv2.FONT_HERSHEY_SIMPLEX, 0.7, (255, 255, 255), 2)\n",
        "\n",
        "        except:\n",
        "            pass\n",
        "\n",
        "        # Curl counter logic\n",
        "        if angle > 120:\n",
        "            stage = \"right\"\n",
        "        if angle < 30 and stage == 'right':\n",
        "            stage = \"left\"\n",
        "            counter += 1\n",
        "            print(\"Number of neck bending movements:\", (counter)/2)\n",
        "\n",
        "        # Render neck bending counter\n",
        "        # Setup status box\n",
        "        cv2.rectangle(image, (0, 0), (300, 100), (245, 117, 16), -1)\n",
        "\n",
        "        # Rep data\n",
        "        cv2.putText(image, 'Neck count', (15, 12),\n",
        "                    cv2.FONT_HERSHEY_SIMPLEX, 0.5, (0, 0, 0), 1, cv2.LINE_AA)\n",
        "        cv2.putText(image, str((counter)/2),\n",
        "                    (10, 60),\n",
        "                    cv2.FONT_HERSHEY_SIMPLEX, 2, (255, 255, 255), 2, cv2.LINE_AA)\n",
        "\n",
        "\n",
        "\n",
        "\n",
        "        # Render detections\n",
        "        mp_drawing.draw_landmarks(image, results.pose_landmarks, mp_pose.POSE_CONNECTIONS,\n",
        "                                   mp_drawing.DrawingSpec(color=(245, 117, 66), thickness=2, circle_radius=2),\n",
        "                                   mp_drawing.DrawingSpec(color=(245, 66, 230), thickness=2, circle_radius=2)\n",
        "                                  )\n",
        "\n",
        "        cv2.imshow('Mediapipe Feed', image)\n",
        "\n",
        "        if cv2.waitKey(10) & 0xFF == ord('q'):\n",
        "            break\n",
        "\n",
        "cap.release()\n",
        "cv2.destroyAllWindows()"
      ]
    },
    {
      "cell_type": "code",
      "execution_count": null,
      "id": "eff76741-b8e1-42e3-b676-346b76a35650",
      "metadata": {
        "id": "eff76741-b8e1-42e3-b676-346b76a35650"
      },
      "outputs": [],
      "source": []
    }
  ],
  "metadata": {
    "colab": {
      "provenance": []
    },
    "kernelspec": {
      "display_name": "Python 3 (ipykernel)",
      "language": "python",
      "name": "python3"
    },
    "language_info": {
      "codemirror_mode": {
        "name": "ipython",
        "version": 3
      },
      "file_extension": ".py",
      "mimetype": "text/x-python",
      "name": "python",
      "nbconvert_exporter": "python",
      "pygments_lexer": "ipython3",
      "version": "3.11.7"
    }
  },
  "nbformat": 4,
  "nbformat_minor": 5
}